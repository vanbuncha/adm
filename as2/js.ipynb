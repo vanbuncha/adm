{
 "cells": [
  {
   "cell_type": "code",
   "execution_count": null,
   "metadata": {},
   "outputs": [
    {
     "ename": "",
     "evalue": "",
     "output_type": "error",
     "traceback": [
      "\u001b[1;31mCanceled future for execute_request message before replies were done"
     ]
    }
   ],
   "source": [
    "import numpy as np\n",
    "from scipy.sparse import csr_matrix\n",
    "from collections import defaultdict"
   ]
  },
  {
   "cell_type": "code",
   "execution_count": 3,
   "metadata": {},
   "outputs": [],
   "source": [
    "# Step 1: Load the user-movie ratings data from the npy file\n",
    "data = np.load('../../temp_data/user_movie_rating.npy')\n",
    "data_array = data.astype(int)\n",
    "\n",
    "# Extract user, movie, and rating data from the loaded records\n",
    "user_ids, movie_ids, ratings = data[:, 0], data[:, 1], data[:, 2]\n",
    "\n",
    "# Create a CSR \n",
    "user_movie_matrix = csr_matrix((ratings, (user_ids, movie_ids)))\n",
    "\n",
    "\n",
    "\n",
    "# Load the user-movie ratings data from the npz file\n",
    "num_users = user_movie_matrix.shape[0]\n",
    "num_movies = user_movie_matrix.shape[1]"
   ]
  },
  {
   "cell_type": "code",
   "execution_count": 10,
   "metadata": {},
   "outputs": [],
   "source": [
    "def minhash(matrix, num_permutations):\n",
    "    num_users = matrix.shape[0]\n",
    "    num_movies = matrix.shape[1]\n",
    "\n",
    "    # Initialize the signature matrix with infinity\n",
    "    signature_matrix = np.full((num_permutations, num_users), np.inf)\n",
    "\n",
    "    # For each permutation\n",
    "    for i in range(num_permutations):\n",
    "        # Generate a random permutation\n",
    "        permutation = np.random.permutation(num_movies)\n",
    "\n",
    "        # For each user\n",
    "        for user in range(num_users):\n",
    "            # Get the movies rated by this user\n",
    "            movies = matrix[user, :].nonzero()[0]\n",
    "\n",
    "            # If the user hasn't rated any movies, skip this user\n",
    "            if movies.size == 0:\n",
    "                continue\n",
    "\n",
    "            # Apply the permutation to the movies\n",
    "            permuted_movies = permutation[movies]\n",
    "\n",
    "            # Take the index of the first non-zero entry as the hash value\n",
    "            hash_value = np.min(permuted_movies)\n",
    "\n",
    "            # Update the signature matrix\n",
    "            signature_matrix[i, user] = hash_value\n",
    "\n",
    "    return signature_matrix"
   ]
  },
  {
   "cell_type": "code",
   "execution_count": 11,
   "metadata": {},
   "outputs": [],
   "source": [
    "def banding(signature_matrix, num_bands):\n",
    "    num_hash_functions, num_users = signature_matrix.shape\n",
    "    rows_per_band = num_hash_functions // num_bands\n",
    "\n",
    "    # Initialize the buckets\n",
    "    buckets = [{} for _ in range(num_bands)]\n",
    "\n",
    "    # For each band\n",
    "    for band in range(num_bands):\n",
    "        # Get the rows for this band\n",
    "        rows = signature_matrix[band * rows_per_band : (band + 1) * rows_per_band]\n",
    "\n",
    "        # For each user\n",
    "        for user in range(num_users):\n",
    "            # Get the signature for this user and band\n",
    "            signature = rows[:, user]\n",
    "\n",
    "            # Hash the signature into a bucket\n",
    "            bucket = hash(tuple(signature))\n",
    "\n",
    "            # Add the user to the bucket\n",
    "            if bucket not in buckets[band]:\n",
    "                buckets[band][bucket] = []\n",
    "            buckets[band][bucket].append(user)\n",
    "\n",
    "    return buckets"
   ]
  },
  {
   "cell_type": "code",
   "execution_count": null,
   "metadata": {},
   "outputs": [],
   "source": [
    "from itertools import combinations\n",
    "\n",
    "# Function to calculate candidate pairs from buckets\n",
    "def calculate_pairs_from_buckets(buckets):\n",
    "    # Create a set to store the candidate pairs\n",
    "    candidate_pairs = set()\n",
    "\n",
    "    # For each band of buckets\n",
    "    for band in buckets:\n",
    "        # For each bucket in the band\n",
    "        for bucket in band.values():\n",
    "            # If the bucket contains more than one user\n",
    "            if len(bucket) > 1:\n",
    "                # Add all pairs of users in this bucket to the candidate pairs\n",
    "                candidate_pairs.update(combinations(bucket, 2))\n",
    "\n",
    "    # Return the candidate pairs\n",
    "    return candidate_pairs\n",
    "\n",
    "# Call the function with your buckets\n",
    "candidate_pairs = calculate_pairs_from_buckets(buckets)\n",
    "\n",
    "# Print the candidate pairs\n",
    "print(candidate_pairs)"
   ]
  },
  {
   "cell_type": "code",
   "execution_count": 7,
   "metadata": {},
   "outputs": [],
   "source": [
    "def jaccard_similarity(set1, set2):\n",
    "    intersection = len(set1 & set2)\n",
    "    union = len(set1 | set2)\n",
    "    return intersection / union"
   ]
  },
  {
   "cell_type": "code",
   "execution_count": 13,
   "metadata": {},
   "outputs": [],
   "source": [
    "num_hash_functions = 100\n",
    "signature_matrix = minhash(user_movie_matrix, num_hash_functions)"
   ]
  },
  {
   "cell_type": "code",
   "execution_count": 29,
   "metadata": {},
   "outputs": [],
   "source": [
    "num_bands = 20\n",
    "buckets = banding(signature_matrix, num_bands)"
   ]
  },
  {
   "cell_type": "code",
   "execution_count": null,
   "metadata": {},
   "outputs": [],
   "source": [
    "similarities = [(pair, jaccard_similarity(set(pair[0]), set(pair[1]))) for pair in candidate_pairs]\n",
    "\n",
    "threshold = 0.5\n",
    "similar_pairs = [(pair, similarity) for pair, similarity in similarities if similarity > threshold]"
   ]
  },
  {
   "cell_type": "code",
   "execution_count": null,
   "metadata": {},
   "outputs": [],
   "source": []
  }
 ],
 "metadata": {
  "kernelspec": {
   "display_name": "adm_as2",
   "language": "python",
   "name": "python3"
  },
  "language_info": {
   "codemirror_mode": {
    "name": "ipython",
    "version": 3
   },
   "file_extension": ".py",
   "mimetype": "text/x-python",
   "name": "python",
   "nbconvert_exporter": "python",
   "pygments_lexer": "ipython3",
   "version": "3.11.5"
  }
 },
 "nbformat": 4,
 "nbformat_minor": 2
}
