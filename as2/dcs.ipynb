{
 "cells": [
  {
   "cell_type": "markdown",
   "metadata": {},
   "source": [
    "## Discrete cosine similiarity\n"
   ]
  },
  {
   "cell_type": "code",
   "execution_count": 46,
   "metadata": {},
   "outputs": [],
   "source": [
    "import numpy as np\n",
    "from sklearn.metrics.pairwise import cosine_similarity\n",
    "from scipy.sparse import coo_matrix\n",
    "from scipy.sparse import save_npz\n",
    "from scipy.sparse import load_npz"
   ]
  },
  {
   "cell_type": "code",
   "execution_count": 47,
   "metadata": {},
   "outputs": [
    {
     "name": "stdout",
     "output_type": "stream",
     "text": [
      "COO format sparse matrix:\n",
      "  (0, 0)\t1\n",
      "  (0, 1)\t30\n",
      "  (0, 2)\t3\n",
      "  (1, 0)\t1\n",
      "  (1, 1)\t157\n",
      "  (1, 2)\t3\n",
      "  (2, 0)\t1\n",
      "  (2, 1)\t173\n",
      "  (2, 2)\t4\n",
      "  (3, 0)\t1\n",
      "  (3, 1)\t175\n",
      "  (3, 2)\t5\n",
      "  (4, 0)\t1\n",
      "  (4, 1)\t191\n",
      "  (4, 2)\t2\n",
      "  (5, 0)\t1\n",
      "  (5, 1)\t197\n",
      "  (5, 2)\t3\n",
      "  (6, 0)\t1\n",
      "  (6, 1)\t241\n",
      "  (6, 2)\t3\n",
      "  (7, 0)\t1\n",
      "  (7, 1)\t295\n",
      "  (7, 2)\t4\n",
      "  (8, 0)\t1\n",
      "  :\t:\n",
      "  (65225497, 2)\t3\n",
      "  (65225498, 0)\t103703\n",
      "  (65225498, 1)\t17330\n",
      "  (65225498, 2)\t2\n",
      "  (65225499, 0)\t103703\n",
      "  (65225499, 1)\t17346\n",
      "  (65225499, 2)\t4\n",
      "  (65225500, 0)\t103703\n",
      "  (65225500, 1)\t17424\n",
      "  (65225500, 2)\t4\n",
      "  (65225501, 0)\t103703\n",
      "  (65225501, 1)\t17479\n",
      "  (65225501, 2)\t2\n",
      "  (65225502, 0)\t103703\n",
      "  (65225502, 1)\t17621\n",
      "  (65225502, 2)\t4\n",
      "  (65225503, 0)\t103703\n",
      "  (65225503, 1)\t17622\n",
      "  (65225503, 2)\t2\n",
      "  (65225504, 0)\t103703\n",
      "  (65225504, 1)\t17627\n",
      "  (65225504, 2)\t4\n",
      "  (65225505, 0)\t103703\n",
      "  (65225505, 1)\t17764\n",
      "  (65225505, 2)\t4\n"
     ]
    }
   ],
   "source": [
    "# data load and conversion to coo_matrix format\n",
    "\n",
    "\n",
    "data = np.load('data/user_movie_rating.npy')\n",
    "sparse_matrix = coo_matrix(data)\n",
    "\n",
    "# Save the COO format sparse matrix to a .npz file\n",
    "save_npz('coo_sparse_matrix.npz', sparse_matrix)\n",
    "\n",
    "# Print the COO format sparse matrix\n",
    "print(\"COO format sparse matrix:\")\n",
    "print(sparse_matrix)\n"
   ]
  },
  {
   "cell_type": "code",
   "execution_count": 48,
   "metadata": {},
   "outputs": [
    {
     "name": "stdout",
     "output_type": "stream",
     "text": [
      "17771\n",
      "103704\n"
     ]
    }
   ],
   "source": [
    "# get num of users and num of movies\n",
    "\n",
    "data = np.load('data/user_movie_rating.npy')\n",
    "data_array = data.astype(int)\n",
    "\n",
    "# Extract user, movie, and rating data from the loaded records\n",
    "user_ids, movie_ids, ratings = data[:, 0], data[:, 1], data[:, 2]\n",
    "\n",
    "# Create a COO (Coordinate List) sparse matrix from the data\n",
    "user_movie_matrix = coo_matrix((ratings, (user_ids, movie_ids)))\n",
    "\n",
    "\n",
    "# Load the user-movie ratings data from the npz file\n",
    "num_users = user_movie_matrix.shape[0]\n",
    "num_movies = user_movie_matrix.shape[1]\n",
    "\n",
    "print(num_movies)\n",
    "print(num_users)"
   ]
  },
  {
   "cell_type": "code",
   "execution_count": 49,
   "metadata": {},
   "outputs": [
    {
     "name": "stdout",
     "output_type": "stream",
     "text": [
      "User-Movie Matrix:\n",
      "[[1 0 1 ... 1 1 0]\n",
      " [1 0 1 ... 1 1 0]\n",
      " [0 1 0 ... 0 0 0]\n",
      " ...\n",
      " [0 1 1 ... 0 1 0]\n",
      " [0 1 0 ... 1 0 1]\n",
      " [1 0 1 ... 0 0 0]]\n"
     ]
    }
   ],
   "source": [
    "# Sample function to generate user-movie matrix \n",
    "def generate_sample_data(num_users, num_movies):\n",
    "    data = np.random.randint(2, size=(num_users, num_movies))  # Binary ratings (0 or 1)\n",
    "    return data\n",
    "\n",
    "\n",
    "user_movie_matrix = generate_sample_data(num_users, num_movies)\n",
    "\n",
    "# Print the user-movie matrix (sample)\n",
    "print(\"User-Movie Matrix:\")\n",
    "print(user_movie_matrix)\n"
   ]
  },
  {
   "cell_type": "markdown",
   "metadata": {},
   "source": [
    "## Minhashing"
   ]
  },
  {
   "cell_type": "code",
   "execution_count": 50,
   "metadata": {},
   "outputs": [],
   "source": [
    "import numpy as np\n",
    "\n",
    "# define the number of permutations (h)\n",
    "h = 100  # You can adjust this number based on your dataset size and desired accuracy\n",
    "\n",
    "# initialize Minhash signatures for each user\n",
    "minhash_signatures = np.full((num_users, h), np.inf)\n",
    "\n",
    "# generate h different random permutations of the columns (movies)\n",
    "permutations = [np.random.permutation(num_movies) for _ in range(h)]\n",
    "\n",
    "# compute Minhash signatures for each user\n",
    "for user_id in range(num_users):\n",
    "    user_ratings = user_movie_matrix[user_id]  # extract user's ratings (no need for toarray())\n",
    "    for i in range(h):\n",
    "        permuted_movie_ids = permutations[i]\n",
    "        permuted_ratings = user_ratings[permuted_movie_ids]\n",
    "        first_nonzero_index = np.argmax(permuted_ratings)\n",
    "        minhash_signatures[user_id, i] = permuted_movie_ids[first_nonzero_index]\n",
    "\n"
   ]
  },
  {
   "cell_type": "code",
   "execution_count": 51,
   "metadata": {},
   "outputs": [
    {
     "name": "stdout",
     "output_type": "stream",
     "text": [
      "Number of Minhash Signatures: 100\n"
     ]
    }
   ],
   "source": [
    "print(\"Number of Minhash Signatures:\", minhash_signatures.shape[1])"
   ]
  },
  {
   "cell_type": "code",
   "execution_count": 52,
   "metadata": {},
   "outputs": [],
   "source": [
    "#  LSH with Minhash Signatures\n",
    "\n",
    "#  number of bands (b) and rows per band (r)\n",
    "b = 10  # number of partitions\n",
    "r = h // b  # ensure that r * b = h\n",
    "\n",
    "# initialize a dictionary to store buckets\n",
    "buckets = {}\n",
    "\n",
    "# hash Minhash signatures into bands\n",
    "for user_id in range(num_users):\n",
    "    minhash_signature = minhash_signatures[user_id]\n",
    "    for band_id in range(b):\n",
    "        band_signature = minhash_signature[band_id * r : (band_id + 1) * r]\n",
    "        # convert the band signature to a hashable string using hash fnc\n",
    "        band_signature_str = str(band_signature)\n",
    "        # add the user to the corresponding bucket\n",
    "        if band_signature_str not in buckets:\n",
    "            buckets[band_signature_str] = []\n",
    "        buckets[band_signature_str].append(user_id)\n",
    "\n",
    "\n"
   ]
  },
  {
   "cell_type": "code",
   "execution_count": 53,
   "metadata": {},
   "outputs": [],
   "source": [
    "# Pair Generation\n",
    "\n",
    "# initialize a list to store candidate pairs of users\n",
    "candidate_pairs = []\n",
    "\n",
    "# iterate through the buckets created in Step 3\n",
    "for bucket in buckets.values():\n",
    "    # generate pairs of users within each bucket\n",
    "    for i in range(len(bucket)):\n",
    "        for j in range(i + 1, len(bucket)):\n",
    "            user1 = bucket[i]\n",
    "            user2 = bucket[j]\n",
    "            candidate_pairs.append((user1, user2))\n",
    "\n"
   ]
  },
  {
   "cell_type": "code",
   "execution_count": 54,
   "metadata": {},
   "outputs": [],
   "source": [
    "#  DCS Calculation and Threshold Check\n",
    "\n",
    "# define the threshold for DCS\n",
    "threshold_dcs = 0.73  \n",
    "\n",
    "# initialize a list to store pairs of users with high DCS\n",
    "similar_user_pairs = []\n",
    "\n",
    "# calculate DCS between two Minhash signatures\n",
    "def calculate_dcs(minhash_signature1, minhash_signature2):\n",
    "    # Replace every non-zero rating with 1 in both signatures\n",
    "    minhash_signature1 = (minhash_signature1 > 0).astype(int)\n",
    "    minhash_signature2 = (minhash_signature2 > 0).astype(int)\n",
    "\n",
    "    # compute the cosine similarity between the modified signatures\n",
    "    dot_product = np.dot(minhash_signature1, minhash_signature2)\n",
    "    norm1 = np.linalg.norm(minhash_signature1)\n",
    "    norm2 = np.linalg.norm(minhash_signature2)\n",
    "\n",
    "    # calculate the DCS value\n",
    "    dcs = dot_product / (norm1 * norm2) if (norm1 * norm2) > 0 else 0.0\n",
    "\n",
    "    return dcs\n",
    "    \n",
    "# iterate through the candidate pairs\n",
    "for user1, user2 in candidate_pairs:\n",
    "    # retrieve the Minhash signatures for user1 and user2\n",
    "    minhash_signature1 = minhash_signatures[user1]\n",
    "    minhash_signature2 = minhash_signatures[user2]\n",
    "    \n",
    "    # calculate DCS between the Minhash signatures\n",
    "    dcs = calculate_dcs(minhash_signature1, minhash_signature2)\n",
    "    \n",
    "    # check if DCS exceeds the threshold\n",
    "    if dcs > threshold_dcs:\n",
    "        similar_user_pairs.append((user1, user2))\n",
    "\n"
   ]
  },
  {
   "cell_type": "code",
   "execution_count": 55,
   "metadata": {},
   "outputs": [],
   "source": [
    "# Output\n",
    "\n",
    "# Define the output file name\n",
    "output_file = \"similar_user_pairs.txt\"\n",
    "\n",
    "# write similar user pairs to the output file\n",
    "with open(output_file, \"w\") as file:\n",
    "    for user1, user2 in similar_user_pairs:\n",
    "        # write the user pair (u1, u2) to the file\n",
    "        file.write(f\"{user1},{user2}\\n\")\n",
    "\n"
   ]
  }
 ],
 "metadata": {
  "kernelspec": {
   "display_name": "snacs_as2",
   "language": "python",
   "name": "python3"
  },
  "language_info": {
   "codemirror_mode": {
    "name": "ipython",
    "version": 3
   },
   "file_extension": ".py",
   "mimetype": "text/x-python",
   "name": "python",
   "nbconvert_exporter": "python",
   "pygments_lexer": "ipython3",
   "version": "3.11.5"
  }
 },
 "nbformat": 4,
 "nbformat_minor": 2
}
